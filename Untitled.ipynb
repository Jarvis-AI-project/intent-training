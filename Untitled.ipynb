{
 "cells": [
  {
   "cell_type": "code",
   "execution_count": 1,
   "id": "448fd238",
   "metadata": {},
   "outputs": [
    {
     "name": "stdout",
     "output_type": "stream",
     "text": [
      "         set the volume equal to 56 set the volume to a level of 94  \\\n",
      "intent                 volume.value                    volume.value   \n",
      "entities           {'volume': '56'}                {'volume': '94'}   \n",
      "\n",
      "         make the volume 23 set the volume to 89 on a scale of 0-100  \\\n",
      "intent         volume.value                             volume.value   \n",
      "entities   {'volume': '23'}                         {'volume': '89'}   \n",
      "\n",
      "         set the volume control to 98 set the volume equal to 83  \\\n",
      "intent                   volume.value               volume.value   \n",
      "entities             {'volume': '98'}           {'volume': '83'}   \n",
      "\n",
      "         set the volume to 67 using the speaker set the volume level to 89  \\\n",
      "intent                             volume.value               volume.value   \n",
      "entities                       {'volume': '67'}           {'volume': '89'}   \n",
      "\n",
      "         lower the volume to 27 set the volume to 9 in the speaker  ...  \\\n",
      "intent             volume.value                       volume.value  ...   \n",
      "entities       {'volume': '27'}                    {'volume': '9'}  ...   \n",
      "\n",
      "         adjust the volume to 46 on the scale increase the volume to 56  \\\n",
      "intent                           volume.value              volume.value   \n",
      "entities                     {'volume': '46'}          {'volume': '56'}   \n",
      "\n",
      "         turn up the volume to 12 set the sound to 45  \\\n",
      "intent               volume.value        volume.value   \n",
      "entities         {'volume': '12'}    {'volume': '45'}   \n",
      "\n",
      "         increase the volume to 7 turn the volume knob to 31  \\\n",
      "intent               volume.value               volume.value   \n",
      "entities          {'volume': '7'}           {'volume': '31'}   \n",
      "\n",
      "         adjust the volume to 37 on the system increase the volume to 82  \\\n",
      "intent                            volume.value              volume.value   \n",
      "entities                      {'volume': '37'}          {'volume': '82'}   \n",
      "\n",
      "         adjust the sound level to 89 set the volume to 80 using the speaker  \n",
      "intent                   volume.value                           volume.value  \n",
      "entities             {'volume': '89'}                       {'volume': '80'}  \n",
      "\n",
      "[2 rows x 5656 columns]\n"
     ]
    }
   ],
   "source": [
    "import pandas as pd\n",
    "import json\n",
    "import os \n",
    "input_files=pd.read_json('data/volume_control/set_by_volume.json') #* reading json files\n",
    "print(input_files)\n"
   ]
  },
  {
   "cell_type": "code",
   "execution_count": null,
   "id": "c5304a05",
   "metadata": {},
   "outputs": [],
   "source": []
  }
 ],
 "metadata": {
  "kernelspec": {
   "display_name": "Python 3 (ipykernel)",
   "language": "python",
   "name": "python3"
  },
  "language_info": {
   "codemirror_mode": {
    "name": "ipython",
    "version": 3
   },
   "file_extension": ".py",
   "mimetype": "text/x-python",
   "name": "python",
   "nbconvert_exporter": "python",
   "pygments_lexer": "ipython3",
   "version": "3.10.9"
  }
 },
 "nbformat": 4,
 "nbformat_minor": 5
}
